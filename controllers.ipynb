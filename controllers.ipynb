{
 "cells": [
  {
   "cell_type": "code",
   "execution_count": null,
   "metadata": {},
   "outputs": [],
   "source": [
    "#レスポンス処理用\n",
    "\n",
    "from fastapi import FastAPI\n",
    "from starlette.requests import Request\n",
    "\n",
    "app = FastAPI(\n",
    "    title='FastAPIでつくるtoDoアプリケーション',\n",
    "    description='FastAPIチュートリアル：FastAPI(とstarlette)でシンプルなtoDoアプリを作りましょう．',\n",
    "    version='0.9 beta'\n",
    ")\n",
    "\n",
    "\n",
    "def index(request: Request):\n",
    "    return {'Hello': 'World'}\n"
   ]
  }
 ],
 "metadata": {
  "kernelspec": {
   "display_name": "Python 3",
   "language": "python",
   "name": "python3"
  },
  "language_info": {
   "codemirror_mode": {
    "name": "ipython",
    "version": 3
   },
   "file_extension": ".py",
   "mimetype": "text/x-python",
   "name": "python",
   "nbconvert_exporter": "python",
   "pygments_lexer": "ipython3",
   "version": "3.7.6"
  }
 },
 "nbformat": 4,
 "nbformat_minor": 4
}
