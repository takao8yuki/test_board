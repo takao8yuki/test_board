{
 "cells": [
  {
   "cell_type": "code",
   "execution_count": 1,
   "metadata": {},
   "outputs": [
    {
     "name": "stdout",
     "output_type": "stream",
     "text": [
      "Collecting fastapi\n",
      "  Downloading fastapi-0.61.1-py3-none-any.whl (48 kB)\n",
      "Collecting pydantic<2.0.0,>=1.0.0\n",
      "  Downloading pydantic-1.6.1-cp37-cp37m-win_amd64.whl (1.6 MB)\n",
      "Collecting starlette==0.13.6\n",
      "  Downloading starlette-0.13.6-py3-none-any.whl (59 kB)\n",
      "Installing collected packages: pydantic, starlette, fastapi\n",
      "Successfully installed fastapi-0.61.1 pydantic-1.6.1 starlette-0.13.6\n",
      "Note: you may need to restart the kernel to use updated packages.\n"
     ]
    }
   ],
   "source": [
    "#環境構築\n",
    "pip install fastapi"
   ]
  },
  {
   "cell_type": "code",
   "execution_count": 2,
   "metadata": {},
   "outputs": [
    {
     "name": "stdout",
     "output_type": "stream",
     "text": [
      "Requirement already satisfied: sqlalchemy in c:\\users\\takaoyuki-pc007\\anaconda3\\lib\\site-packages (1.3.13)\n",
      "Collecting uvicorn\n",
      "  Downloading uvicorn-0.12.1-py3-none-any.whl (44 kB)\n",
      "Collecting typing-extensions; python_version < \"3.8\"\n",
      "  Downloading typing_extensions-3.7.4.3-py3-none-any.whl (22 kB)\n",
      "Collecting h11>=0.8\n",
      "  Downloading h11-0.11.0-py2.py3-none-any.whl (54 kB)\n",
      "Requirement already satisfied: click==7.* in c:\\users\\takaoyuki-pc007\\anaconda3\\lib\\site-packages (from uvicorn) (7.0)\n",
      "Installing collected packages: typing-extensions, h11, uvicorn\n",
      "Successfully installed h11-0.11.0 typing-extensions-3.7.4.3 uvicorn-0.12.1\n",
      "Note: you may need to restart the kernel to use updated packages.\n"
     ]
    }
   ],
   "source": [
    "pip install sqlalchemy uvicorn"
   ]
  },
  {
   "cell_type": "code",
   "execution_count": null,
   "metadata": {},
   "outputs": [],
   "source": []
  }
 ],
 "metadata": {
  "kernelspec": {
   "display_name": "Python 3",
   "language": "python",
   "name": "python3"
  },
  "language_info": {
   "codemirror_mode": {
    "name": "ipython",
    "version": 3
   },
   "file_extension": ".py",
   "mimetype": "text/x-python",
   "name": "python",
   "nbconvert_exporter": "python",
   "pygments_lexer": "ipython3",
   "version": "3.7.6"
  }
 },
 "nbformat": 4,
 "nbformat_minor": 4
}
